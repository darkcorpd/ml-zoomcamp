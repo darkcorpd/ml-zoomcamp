{
 "cells": [
  {
   "cell_type": "code",
   "execution_count": 1,
   "metadata": {},
   "outputs": [
    {
     "name": "stdout",
     "output_type": "stream",
     "text": [
      "Requirement already satisfied: grpcio==1.42.0 in c:\\users\\darkcorp\\anaconda3\\lib\\site-packages (1.42.0)\n",
      "Requirement already satisfied: tensorflow-serving-api==2.7.0 in c:\\users\\darkcorp\\anaconda3\\lib\\site-packages (2.7.0)\n",
      "Requirement already satisfied: six>=1.5.2 in c:\\users\\darkcorp\\anaconda3\\lib\\site-packages (from grpcio==1.42.0) (1.16.0)\n",
      "Requirement already satisfied: tensorflow<3,>=2.7.0 in c:\\users\\darkcorp\\anaconda3\\lib\\site-packages (from tensorflow-serving-api==2.7.0) (2.11.0)\n",
      "Requirement already satisfied: protobuf>=3.6.0 in c:\\users\\darkcorp\\anaconda3\\lib\\site-packages (from tensorflow-serving-api==2.7.0) (3.19.1)\n",
      "Requirement already satisfied: tensorflow-intel==2.11.0 in c:\\users\\darkcorp\\anaconda3\\lib\\site-packages (from tensorflow<3,>=2.7.0->tensorflow-serving-api==2.7.0) (2.11.0)\n",
      "Requirement already satisfied: wrapt>=1.11.0 in c:\\users\\darkcorp\\anaconda3\\lib\\site-packages (from tensorflow-intel==2.11.0->tensorflow<3,>=2.7.0->tensorflow-serving-api==2.7.0) (1.12.1)\n",
      "Requirement already satisfied: keras<2.12,>=2.11.0 in c:\\users\\darkcorp\\anaconda3\\lib\\site-packages (from tensorflow-intel==2.11.0->tensorflow<3,>=2.7.0->tensorflow-serving-api==2.7.0) (2.11.0)\n",
      "Requirement already satisfied: opt-einsum>=2.3.2 in c:\\users\\darkcorp\\anaconda3\\lib\\site-packages (from tensorflow-intel==2.11.0->tensorflow<3,>=2.7.0->tensorflow-serving-api==2.7.0) (3.3.0)\n",
      "Requirement already satisfied: h5py>=2.9.0 in c:\\users\\darkcorp\\anaconda3\\lib\\site-packages (from tensorflow-intel==2.11.0->tensorflow<3,>=2.7.0->tensorflow-serving-api==2.7.0) (3.6.0)\n",
      "Requirement already satisfied: absl-py>=1.0.0 in c:\\users\\darkcorp\\anaconda3\\lib\\site-packages (from tensorflow-intel==2.11.0->tensorflow<3,>=2.7.0->tensorflow-serving-api==2.7.0) (1.3.0)\n",
      "Requirement already satisfied: setuptools in c:\\users\\darkcorp\\anaconda3\\lib\\site-packages (from tensorflow-intel==2.11.0->tensorflow<3,>=2.7.0->tensorflow-serving-api==2.7.0) (61.2.0)\n",
      "Requirement already satisfied: astunparse>=1.6.0 in c:\\users\\darkcorp\\anaconda3\\lib\\site-packages (from tensorflow-intel==2.11.0->tensorflow<3,>=2.7.0->tensorflow-serving-api==2.7.0) (1.6.3)\n",
      "Requirement already satisfied: tensorflow-estimator<2.12,>=2.11.0 in c:\\users\\darkcorp\\anaconda3\\lib\\site-packages (from tensorflow-intel==2.11.0->tensorflow<3,>=2.7.0->tensorflow-serving-api==2.7.0) (2.11.0)\n",
      "Requirement already satisfied: gast<=0.4.0,>=0.2.1 in c:\\users\\darkcorp\\anaconda3\\lib\\site-packages (from tensorflow-intel==2.11.0->tensorflow<3,>=2.7.0->tensorflow-serving-api==2.7.0) (0.4.0)\n",
      "Requirement already satisfied: typing-extensions>=3.6.6 in c:\\users\\darkcorp\\anaconda3\\lib\\site-packages (from tensorflow-intel==2.11.0->tensorflow<3,>=2.7.0->tensorflow-serving-api==2.7.0) (4.1.1)\n",
      "Requirement already satisfied: google-pasta>=0.1.1 in c:\\users\\darkcorp\\anaconda3\\lib\\site-packages (from tensorflow-intel==2.11.0->tensorflow<3,>=2.7.0->tensorflow-serving-api==2.7.0) (0.2.0)\n",
      "Requirement already satisfied: libclang>=13.0.0 in c:\\users\\darkcorp\\anaconda3\\lib\\site-packages (from tensorflow-intel==2.11.0->tensorflow<3,>=2.7.0->tensorflow-serving-api==2.7.0) (14.0.6)\n",
      "Requirement already satisfied: numpy>=1.20 in c:\\users\\darkcorp\\anaconda3\\lib\\site-packages (from tensorflow-intel==2.11.0->tensorflow<3,>=2.7.0->tensorflow-serving-api==2.7.0) (1.21.5)\n",
      "Requirement already satisfied: flatbuffers>=2.0 in c:\\users\\darkcorp\\anaconda3\\lib\\site-packages (from tensorflow-intel==2.11.0->tensorflow<3,>=2.7.0->tensorflow-serving-api==2.7.0) (22.10.26)\n",
      "Requirement already satisfied: tensorboard<2.12,>=2.11 in c:\\users\\darkcorp\\anaconda3\\lib\\site-packages (from tensorflow-intel==2.11.0->tensorflow<3,>=2.7.0->tensorflow-serving-api==2.7.0) (2.11.0)\n",
      "Requirement already satisfied: packaging in c:\\users\\darkcorp\\anaconda3\\lib\\site-packages (from tensorflow-intel==2.11.0->tensorflow<3,>=2.7.0->tensorflow-serving-api==2.7.0) (21.3)\n",
      "Requirement already satisfied: termcolor>=1.1.0 in c:\\users\\darkcorp\\anaconda3\\lib\\site-packages (from tensorflow-intel==2.11.0->tensorflow<3,>=2.7.0->tensorflow-serving-api==2.7.0) (2.1.1)\n",
      "Requirement already satisfied: tensorflow-io-gcs-filesystem>=0.23.1 in c:\\users\\darkcorp\\anaconda3\\lib\\site-packages (from tensorflow-intel==2.11.0->tensorflow<3,>=2.7.0->tensorflow-serving-api==2.7.0) (0.27.0)\n",
      "Requirement already satisfied: wheel<1.0,>=0.23.0 in c:\\users\\darkcorp\\anaconda3\\lib\\site-packages (from astunparse>=1.6.0->tensorflow-intel==2.11.0->tensorflow<3,>=2.7.0->tensorflow-serving-api==2.7.0) (0.37.1)\n",
      "Requirement already satisfied: tensorboard-data-server<0.7.0,>=0.6.0 in c:\\users\\darkcorp\\anaconda3\\lib\\site-packages (from tensorboard<2.12,>=2.11->tensorflow-intel==2.11.0->tensorflow<3,>=2.7.0->tensorflow-serving-api==2.7.0) (0.6.1)\n",
      "Requirement already satisfied: werkzeug>=1.0.1 in c:\\users\\darkcorp\\anaconda3\\lib\\site-packages (from tensorboard<2.12,>=2.11->tensorflow-intel==2.11.0->tensorflow<3,>=2.7.0->tensorflow-serving-api==2.7.0) (2.0.3)\n",
      "Requirement already satisfied: tensorboard-plugin-wit>=1.6.0 in c:\\users\\darkcorp\\anaconda3\\lib\\site-packages (from tensorboard<2.12,>=2.11->tensorflow-intel==2.11.0->tensorflow<3,>=2.7.0->tensorflow-serving-api==2.7.0) (1.8.1)\n",
      "Requirement already satisfied: markdown>=2.6.8 in c:\\users\\darkcorp\\anaconda3\\lib\\site-packages (from tensorboard<2.12,>=2.11->tensorflow-intel==2.11.0->tensorflow<3,>=2.7.0->tensorflow-serving-api==2.7.0) (3.3.4)\n",
      "Requirement already satisfied: requests<3,>=2.21.0 in c:\\users\\darkcorp\\anaconda3\\lib\\site-packages (from tensorboard<2.12,>=2.11->tensorflow-intel==2.11.0->tensorflow<3,>=2.7.0->tensorflow-serving-api==2.7.0) (2.27.1)\n",
      "Requirement already satisfied: google-auth-oauthlib<0.5,>=0.4.1 in c:\\users\\darkcorp\\anaconda3\\lib\\site-packages (from tensorboard<2.12,>=2.11->tensorflow-intel==2.11.0->tensorflow<3,>=2.7.0->tensorflow-serving-api==2.7.0) (0.4.6)\n",
      "Requirement already satisfied: google-auth<3,>=1.6.3 in c:\\users\\darkcorp\\anaconda3\\lib\\site-packages (from tensorboard<2.12,>=2.11->tensorflow-intel==2.11.0->tensorflow<3,>=2.7.0->tensorflow-serving-api==2.7.0) (1.33.0)\n",
      "Requirement already satisfied: pyasn1-modules>=0.2.1 in c:\\users\\darkcorp\\anaconda3\\lib\\site-packages (from google-auth<3,>=1.6.3->tensorboard<2.12,>=2.11->tensorflow-intel==2.11.0->tensorflow<3,>=2.7.0->tensorflow-serving-api==2.7.0) (0.2.8)\n",
      "Requirement already satisfied: rsa<5,>=3.1.4 in c:\\users\\darkcorp\\anaconda3\\lib\\site-packages (from google-auth<3,>=1.6.3->tensorboard<2.12,>=2.11->tensorflow-intel==2.11.0->tensorflow<3,>=2.7.0->tensorflow-serving-api==2.7.0) (4.7.2)\n",
      "Requirement already satisfied: cachetools<5.0,>=2.0.0 in c:\\users\\darkcorp\\anaconda3\\lib\\site-packages (from google-auth<3,>=1.6.3->tensorboard<2.12,>=2.11->tensorflow-intel==2.11.0->tensorflow<3,>=2.7.0->tensorflow-serving-api==2.7.0) (4.2.2)\n",
      "Requirement already satisfied: requests-oauthlib>=0.7.0 in c:\\users\\darkcorp\\anaconda3\\lib\\site-packages (from google-auth-oauthlib<0.5,>=0.4.1->tensorboard<2.12,>=2.11->tensorflow-intel==2.11.0->tensorflow<3,>=2.7.0->tensorflow-serving-api==2.7.0) (1.3.1)\n",
      "Requirement already satisfied: pyasn1<0.5.0,>=0.4.6 in c:\\users\\darkcorp\\anaconda3\\lib\\site-packages (from pyasn1-modules>=0.2.1->google-auth<3,>=1.6.3->tensorboard<2.12,>=2.11->tensorflow-intel==2.11.0->tensorflow<3,>=2.7.0->tensorflow-serving-api==2.7.0) (0.4.8)\n",
      "Requirement already satisfied: idna<4,>=2.5 in c:\\users\\darkcorp\\anaconda3\\lib\\site-packages (from requests<3,>=2.21.0->tensorboard<2.12,>=2.11->tensorflow-intel==2.11.0->tensorflow<3,>=2.7.0->tensorflow-serving-api==2.7.0) (3.3)\n",
      "Requirement already satisfied: charset-normalizer~=2.0.0 in c:\\users\\darkcorp\\anaconda3\\lib\\site-packages (from requests<3,>=2.21.0->tensorboard<2.12,>=2.11->tensorflow-intel==2.11.0->tensorflow<3,>=2.7.0->tensorflow-serving-api==2.7.0) (2.0.4)\n",
      "Requirement already satisfied: urllib3<1.27,>=1.21.1 in c:\\users\\darkcorp\\anaconda3\\lib\\site-packages (from requests<3,>=2.21.0->tensorboard<2.12,>=2.11->tensorflow-intel==2.11.0->tensorflow<3,>=2.7.0->tensorflow-serving-api==2.7.0) (1.26.9)\n",
      "Requirement already satisfied: certifi>=2017.4.17 in c:\\users\\darkcorp\\anaconda3\\lib\\site-packages (from requests<3,>=2.21.0->tensorboard<2.12,>=2.11->tensorflow-intel==2.11.0->tensorflow<3,>=2.7.0->tensorflow-serving-api==2.7.0) (2021.10.8)\n",
      "Requirement already satisfied: oauthlib>=3.0.0 in c:\\users\\darkcorp\\anaconda3\\lib\\site-packages (from requests-oauthlib>=0.7.0->google-auth-oauthlib<0.5,>=0.4.1->tensorboard<2.12,>=2.11->tensorflow-intel==2.11.0->tensorflow<3,>=2.7.0->tensorflow-serving-api==2.7.0) (3.2.2)\n",
      "Requirement already satisfied: pyparsing!=3.0.5,>=2.0.2 in c:\\users\\darkcorp\\anaconda3\\lib\\site-packages (from packaging->tensorflow-intel==2.11.0->tensorflow<3,>=2.7.0->tensorflow-serving-api==2.7.0) (3.0.4)\n",
      "Requirement already satisfied: keras-image-helper in c:\\users\\darkcorp\\anaconda3\\lib\\site-packages (0.0.1)\n",
      "Requirement already satisfied: numpy in c:\\users\\darkcorp\\anaconda3\\lib\\site-packages (from keras-image-helper) (1.21.5)\n",
      "Requirement already satisfied: pillow in c:\\users\\darkcorp\\anaconda3\\lib\\site-packages (from keras-image-helper) (9.0.1)\n",
      "Collecting tensorflow-protobuf==2.7.0\n",
      "  Downloading tensorflow_protobuf-2.7.0-py3-none-any.whl (228 kB)\n",
      "Requirement already satisfied: protobuf in c:\\users\\darkcorp\\anaconda3\\lib\\site-packages (from tensorflow-protobuf==2.7.0) (3.19.1)\n",
      "Installing collected packages: tensorflow-protobuf\n",
      "Successfully installed tensorflow-protobuf-2.7.0\n"
     ]
    }
   ],
   "source": [
    "!pip install grpcio==1.42.0 tensorflow-serving-api==2.7.0\n",
    "!pip install keras-image-helper"
   ]
  },
  {
   "cell_type": "code",
   "execution_count": 2,
   "metadata": {},
   "outputs": [],
   "source": [
    "import grpc\n",
    "import tensorflow as tf\n",
    "from tensorflow_serving.apis import predict_pb2\n",
    "from tensorflow_serving.apis import prediction_service_pb2_grpc"
   ]
  },
  {
   "cell_type": "code",
   "execution_count": 3,
   "metadata": {},
   "outputs": [],
   "source": [
    "host = 'localhost:8500'\n",
    "channel = grpc.insecure_channel(host)\n",
    "stub = prediction_service_pb2_grpc.PredictionServiceStub(channel)"
   ]
  },
  {
   "cell_type": "code",
   "execution_count": 4,
   "metadata": {},
   "outputs": [],
   "source": [
    "from keras_image_helper import create_preprocessor\n",
    "\n",
    "preprocessor = create_preprocessor('xception', target_size=(299, 299))\n",
    "url = 'https://raw.githubusercontent.com/darkcorpd/ml-zoomcamp/main/kitchenware-classification/cup.jpg'\n",
    "X = preprocessor.from_url(url)"
   ]
  },
  {
   "cell_type": "code",
   "execution_count": 7,
   "metadata": {},
   "outputs": [],
   "source": [
    "def np_to_protobuf(data):\n",
    "    return tf.make_tensor_proto(data, shape=data.shape)\n",
    "\n",
    "pb_request = predict_pb2.PredictRequest()\n",
    "pb_request.model_spec.name = 'tlite_model'\n",
    "pb_request.model_spec.signature_name = 'serving_default'\n",
    "pb_request.inputs['input_4'].CopyFrom(np_to_protobuf(X))"
   ]
  },
  {
   "cell_type": "code",
   "execution_count": 10,
   "metadata": {},
   "outputs": [],
   "source": [
    "pb_response = stub.Predict(pb_request, timeout=20.0)\n",
    "\n",
    "preds = pb_response.outputs['dense_3'].float_val"
   ]
  },
  {
   "cell_type": "code",
   "execution_count": 11,
   "metadata": {},
   "outputs": [
    {
     "data": {
      "text/plain": [
       "{'cup': 3.3057055473327637,\n",
       " 'fork': -2.321774959564209,\n",
       " 'glass': -0.3201492130756378,\n",
       " 'knife': -0.4720998704433441,\n",
       " 'plate': -0.5078102946281433,\n",
       " 'spoon': -2.9344308376312256}"
      ]
     },
     "execution_count": 11,
     "metadata": {},
     "output_type": "execute_result"
    }
   ],
   "source": [
    "classes = [\n",
    "    'cup',\n",
    "    'fork',\n",
    "    'glass',\n",
    "    'knife',\n",
    "    'plate',\n",
    "    'spoon'\n",
    "]\n",
    "dict(zip(classes, preds))"
   ]
  }
 ],
 "metadata": {
  "kernelspec": {
   "display_name": "base",
   "language": "python",
   "name": "python3"
  },
  "language_info": {
   "codemirror_mode": {
    "name": "ipython",
    "version": 3
   },
   "file_extension": ".py",
   "mimetype": "text/x-python",
   "name": "python",
   "nbconvert_exporter": "python",
   "pygments_lexer": "ipython3",
   "version": "3.9.12"
  },
  "orig_nbformat": 4,
  "vscode": {
   "interpreter": {
    "hash": "4d93b61df915b6a4a6bfe7d453ff7f306caebac3f9f09865c2814d9f224af6a0"
   }
  }
 },
 "nbformat": 4,
 "nbformat_minor": 2
}
